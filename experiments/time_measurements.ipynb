{
 "cells": [
  {
   "cell_type": "code",
   "execution_count": 26,
   "metadata": {},
   "outputs": [],
   "source": [
    "import sys\n",
    "import numpy as np\n",
    "from time import time\n",
    "import matplotlib.pyplot as plt\n",
    "%matplotlib inline"
   ]
  },
  {
   "cell_type": "code",
   "execution_count": 2,
   "metadata": {},
   "outputs": [],
   "source": [
    "sys.path.append('../')"
   ]
  },
  {
   "cell_type": "code",
   "execution_count": 3,
   "metadata": {},
   "outputs": [],
   "source": [
    "from pparser import Parser\n",
    "from scripts import parse_grammars"
   ]
  },
  {
   "cell_type": "markdown",
   "metadata": {},
   "source": [
    "Reading the rules from file"
   ]
  },
  {
   "cell_type": "code",
   "execution_count": 4,
   "metadata": {},
   "outputs": [],
   "source": [
    "rules, root = parse_grammars('../french/grammar-prune.txt')"
   ]
  },
  {
   "cell_type": "code",
   "execution_count": 5,
   "metadata": {},
   "outputs": [],
   "source": [
    "sentences = []\n",
    "with open ('/home/divserge/YaDisk/Skoltech/pcfg_parser/french/test_lim.toparse') as f:\n",
    "    for l in f:\n",
    "        sent = [w.split('^')[0] for w in l.split()[:-1]][:20]\n",
    "        sentences.append(' '.join(sent))"
   ]
  },
  {
   "cell_type": "code",
   "execution_count": 10,
   "metadata": {},
   "outputs": [],
   "source": [
    "np.random.seed(42)\n",
    "subsample = np.random.choice(sentences, 10)"
   ]
  },
  {
   "cell_type": "code",
   "execution_count": 16,
   "metadata": {},
   "outputs": [
    {
     "name": "stdout",
     "output_type": "stream",
     "text": [
      "10\n",
      "50\n",
      "100\n",
      "150\n"
     ]
    }
   ],
   "source": [
    "for decomposition in ['tt']:\n",
    "    for rank in [10, 50, 100, 150]:\n",
    "        print(rank)\n",
    "        times[decomposition][rank] = []\n",
    "        p = Parser(rules=rules, roots=root, approximation=decomposition, rank=rank)\n",
    "        for sent in subsample:\n",
    "            start = time()\n",
    "            for i in range(3):\n",
    "                p.parse(sent)\n",
    "            end = time()\n",
    "            times[decomposition][rank].append((end - start) / 10)"
   ]
  },
  {
   "cell_type": "code",
   "execution_count": 17,
   "metadata": {},
   "outputs": [
    {
     "name": "stdout",
     "output_type": "stream",
     "text": [
      "100\n",
      "150\n"
     ]
    }
   ],
   "source": [
    "for decomposition in ['tucker']:\n",
    "    for rank in [100, 150]:\n",
    "        print(rank)\n",
    "        times[decomposition][rank] = []\n",
    "        p = Parser(rules=rules, roots=root, approximation=decomposition, rank=rank)\n",
    "        for sent in subsample:\n",
    "            start = time()\n",
    "            for i in range(3):\n",
    "                p.parse(sent)\n",
    "            end = time()\n",
    "            times[decomposition][rank].append((end - start) / 10)"
   ]
  },
  {
   "cell_type": "code",
   "execution_count": 18,
   "metadata": {},
   "outputs": [],
   "source": [
    "times['exact'] = []\n",
    "p = Parser(rules=rules, roots=root, approximation='exact', rank=0)\n",
    "for sent in subsample:\n",
    "    start = time()\n",
    "    p.parse(sent)\n",
    "    end = time()\n",
    "    times['exact'].append(end - start)"
   ]
  },
  {
   "cell_type": "code",
   "execution_count": 32,
   "metadata": {},
   "outputs": [],
   "source": [
    "lengths = [len(sent.split()) for sent in subsample]\n",
    "max_length = np.where(np.array(lengths) == 20)[0]"
   ]
  },
  {
   "cell_type": "code",
   "execution_count": 46,
   "metadata": {},
   "outputs": [],
   "source": [
    "ranks = [150, 100, 50, 10]\n",
    "\n",
    "lines_tt = []\n",
    "for sent_index in max_length:\n",
    "    lines_tt.append([])\n",
    "    for i, rank in enumerate(ranks):\n",
    "        lines_tt[-1].append(times['tt'][rank][sent_index] * 10. / 3)\n",
    "        \n",
    "lines_tucker = []\n",
    "for sent_index in max_length:\n",
    "    lines_tucker.append([])\n",
    "    for i, rank in enumerate(ranks):\n",
    "        lines_tucker[-1].append(times['tucker'][rank][sent_index] * (10. / 3 if rank > 99 else (1.0)))\n",
    "        \n",
    "mean_line_tt = np.array(lines_tt).mean(axis = 0)\n",
    "mean_line_tucker = np.array(lines_tucker).mean(axis = 0)\n",
    "mean_line_exact = [np.array(times['exact'])[max_length].mean()]*4"
   ]
  },
  {
   "cell_type": "code",
   "execution_count": 67,
   "metadata": {},
   "outputs": [
    {
     "data": {
      "text/plain": [
       "<matplotlib.legend.Legend at 0x7fd618cf34a8>"
      ]
     },
     "execution_count": 67,
     "metadata": {},
     "output_type": "execute_result"
    },
    {
     "data": {
      "image/png": "[encoded data removed]",
      "text/plain": [
       "<matplotlib.figure.Figure at 0x7fd618d7a588>"
      ]
     },
     "metadata": {},
     "output_type": "display_data"
    }
   ],
   "source": [
    "plt.figure(figsize=(7,7))\n",
    "for line in lines_tt:\n",
    "    plt.plot(ranks, line, c='r', alpha=0.10, linestyle='--')\n",
    "    \n",
    "for line in lines_tucker:\n",
    "    plt.plot(ranks, line, c='b', alpha=0.10, linestyle='--')\n",
    "\n",
    "plt.plot(ranks, mean_line_tt, c='r', alpha=0.8, label='tensor train')\n",
    "plt.plot(ranks, mean_line_tucker, c='b', alpha=0.8, label='tucker')\n",
    "plt.plot(ranks, mean_line_exact, c='black', alpha=1.0, label='exact')\n",
    "plt.xlabel('rank')\n",
    "plt.ylabel('parse time in seconds')\n",
    "plt.title('time measurements of parsing on several sentences of length 20')\n",
    "plt.xticks(ranks)\n",
    "plt.legend()"
   ]
  },
  {
   "cell_type": "code",
   "execution_count": 55,
   "metadata": {},
   "outputs": [
    {
     "data": {
      "text/plain": [
       "[29.948224703470867, 18.65022627512614, 4.78184453646342, 0.4227478504180908]"
      ]
     },
     "execution_count": 55,
     "metadata": {},
     "output_type": "execute_result"
    }
   ],
   "source": [
    "lines_tt[0]"
   ]
  },
  {
   "cell_type": "code",
   "execution_count": 59,
   "metadata": {},
   "outputs": [
    {
     "data": {
      "text/plain": [
       "[150, 100, 50, 10]"
      ]
     },
     "execution_count": 59,
     "metadata": {},
     "output_type": "execute_result"
    }
   ],
   "source": [
    "ranks"
   ]
  },
  {
   "cell_type": "code",
   "execution_count": null,
   "metadata": {},
   "outputs": [],
   "source": []
  }
 ],
 "metadata": {
  "kernelspec": {
   "display_name": "Python 3",
   "language": "python",
   "name": "python3"
  },
  "language_info": {
   "codemirror_mode": {
    "name": "ipython",
    "version": 3
   },
   "file_extension": ".py",
   "mimetype": "text/x-python",
   "name": "python",
   "nbconvert_exporter": "python",
   "pygments_lexer": "ipython3",
   "version": "3.5.2"
  }
 },
 "nbformat": 4,
 "nbformat_minor": 2
}
