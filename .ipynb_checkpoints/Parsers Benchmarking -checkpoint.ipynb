{
 "cells": [
  {
   "cell_type": "markdown",
   "metadata": {},
   "source": [
    "# <h1><center> Parsers Benchmarking <br> <br> by Team Sava Krasava</center></h1> \n",
    "\n",
    "This notebook uses the functions implemented to compare according to F1-score (ParseEval metric) to evaluate how the parsers perform for different tensor decomposition methods and ranks chosen. "
   ]
  },
  {
   "cell_type": "code",
   "execution_count": 4,
   "metadata": {
    "collapsed": true
   },
   "outputs": [],
   "source": [
    "# Required libraries\n",
    "import nltk \n",
    "from nltk.corpus import treebank\n",
    "from nltk import Tree\n",
    "\n",
    "import sys, time\n",
    "import copy\n",
    "\n",
    "import matplotlib.pyplot as plt\n",
    "%matplotlib inline"
   ]
  },
  {
   "cell_type": "code",
   "execution_count": 18,
   "metadata": {
    "collapsed": true
   },
   "outputs": [],
   "source": [
    "#Import functions for measure F1-score\n",
    "def precision(golds, parses ):\n",
    "    \"\"\"Return the proportion of brackets in the suggested parse tree that are\n",
    "    in the gold standard. \"\"\"\n",
    "\n",
    "    total = 0\n",
    "    successes = 0\n",
    "\n",
    "    for (gold, parse) in zip(golds, parses):\n",
    "        if parse is not None:\n",
    "            parsebrackets = list_brackets(parse)\n",
    "            goldbrackets = list_brackets(gold)\n",
    "            \n",
    "            candidate = parsebrackets\n",
    "            gold = goldbrackets\n",
    "\n",
    "            total += len(candidate)\n",
    "            for bracket in candidate:\n",
    "                if bracket in gold:\n",
    "                    successes += 1\n",
    "\n",
    "    return float(successes) / float(total)\n",
    "\n",
    "\n",
    "def recall(golds, parses):\n",
    "    \"\"\"Return the proportion of brackets in the gold standard that are in the\n",
    "    suggested parse tree.\"\"\"\n",
    "\n",
    "    total = 0\n",
    "    successes = 0\n",
    "\n",
    "    for (gold, parse) in zip(golds, parses):\n",
    "        \n",
    "        goldbrackets = list_brackets(gold)\n",
    "        gold = goldbrackets\n",
    "\n",
    "        total += len(gold)\n",
    "\n",
    "        if parse is not None:\n",
    "            parsebrackets = list_brackets(parse)\n",
    "            candidate = parsebrackets\n",
    "\n",
    "            for bracket in gold:\n",
    "                if bracket in candidate:\n",
    "                    successes += 1\n",
    "\n",
    "    return float(successes) / float(total)\n",
    "\n",
    "def f1_score( golds, parses ):\n",
    "    \"\"\"Return the F1 score of the parse with respect to the gold standard\"\"\"\n",
    "    p = precision(gold,parses)\n",
    "    r = recall(golds,parses)\n",
    "    f1 = (2.0*p*r)/(p+r)\n",
    "    return f1\n",
    "    \n",
    "def words_to_indexes(tree):\n",
    "    \"\"\"Return a new tree based on the original tree, such that the leaf values\n",
    "    are replaced by their indeces.\"\"\"\n",
    "\n",
    "    out = copy.deepcopy(tree)\n",
    "    leaves = out.leaves()\n",
    "    for index in range(0, len(leaves)):\n",
    "        path = out.leaf_treeposition(index)\n",
    "        out[path] = index + 1\n",
    "    return out\n",
    "\n",
    "def list_brackets(tree):\n",
    "    tree = words_to_indexes(tree)\n",
    "\n",
    "    def not_pos_tag(tr):\n",
    "        return tr.height() > 2\n",
    "\n",
    "    subtrees = tree.subtrees(filter=not_pos_tag)\n",
    "    return [(sub.leaves()[0], sub.leaves()[-1]) for sub in subtrees]"
   ]
  },
  {
   "cell_type": "markdown",
   "metadata": {},
   "source": [
    "We used the data obtained from the French grammar in the dataset [Multilingual L-PCFG Models]( http://cohort.inf.ed.ac.uk/lpcfg.html )."
   ]
  },
  {
   "cell_type": "code",
   "execution_count": 15,
   "metadata": {},
   "outputs": [],
   "source": [
    "# Read the data from rank 10 tensor approximation\n",
    "with open('french/results/test_tt_10.txt') as f:\n",
    "    test_10 = f.readlines()\n",
    "test_10 = [x.strip() for x in test_10] \n",
    "\n",
    "\n",
    "# Read the data from rank 50 tensor approximation\n",
    "with open('french/results/test_tt_50.txt') as f:\n",
    "    test_50 = f.readlines()\n",
    "test_50 = [x.strip() for x in test_50] "
   ]
  },
  {
   "cell_type": "code",
   "execution_count": 17,
   "metadata": {},
   "outputs": [
    {
     "data": {
      "image/png": "[encoded data removed]",
      "text/plain": [
       "Tree('SENT^g|PP^g', [Tree('P', ['Dans']), Tree('NP^g', [Tree('@NP^g', [Tree('@NP^g', [Tree('DET', ['le']), Tree('NC', ['cas'])]), Tree('PP^g', [Tree('P', ['où']), Tree('@NP^g', [Tree('@NP^g', [Tree('DET', ['le']), Tree('NC', ['NC'])]), Tree('V', ['a'])])])]), Tree('PP^g', [Tree('@NP^g', [Tree('@NP^g', [Tree('P+D', ['des']), Tree('NC', ['personnes'])]), Tree('PP^g', [Tree('P', ['à']), Tree('NP^g', [Tree('NC', ['charge']), Tree('PONCT', [','])])])]), Tree('PP^g', [Tree('@NP^g', [Tree('@NP^g', [Tree('DET', ['le']), Tree('NC', ['NC'])]), Tree('VPpart^g|VPP', ['prévu'])]), Tree('PP^g', [Tree('PP^g', [Tree('P', ['pour']), Tree('NP^g', [Tree('DET', ['les']), Tree('NC', ['NC'])])]), Tree('PP^g', [Tree('CC', ['ou']), Tree('DET', ['les'])])])])])])])"
      ]
     },
     "execution_count": 17,
     "metadata": {},
     "output_type": "execute_result"
    }
   ],
   "source": [
    "#Visualization of a Parse Tree Obtained \n",
    "Tree.fromstring(test_10[1])"
   ]
  },
  {
   "cell_type": "code",
   "execution_count": 27,
   "metadata": {},
   "outputs": [],
   "source": [
    "gold = [ Tree.fromstring(test_50[i]) for i in range(len(test_50)) ]\n",
    "parse = [ Tree.fromstring(test_10[i]) for i in range(len(test_10)) ]\n",
    "\n",
    "# Calculate the scores\n",
    "#pscore = [ precision([gold[i]], [parse[i]]) for i in range(len(gold)) ]\n",
    "#rscore = [ recall([gold[i]], [parse[i]]) for i in range(len(gold)) ]\n",
    "\n",
    "#rscore = recall([gold], [parse])\n",
    "#print(\"Precision \\t  Recall \\t F1-Score\")\n",
    "#print( pscore, rscore , 2*pscore*rscore / ( pscore + rscore))"
   ]
  },
  {
   "cell_type": "code",
   "execution_count": null,
   "metadata": {
    "collapsed": true
   },
   "outputs": [],
   "source": []
  }
 ],
 "metadata": {
  "kernelspec": {
   "display_name": "Python 3",
   "language": "python",
   "name": "python3"
  },
  "language_info": {
   "codemirror_mode": {
    "name": "ipython",
    "version": 3
   },
   "file_extension": ".py",
   "mimetype": "text/x-python",
   "name": "python",
   "nbconvert_exporter": "python",
   "pygments_lexer": "ipython3",
   "version": "3.6.2"
  }
 },
 "nbformat": 4,
 "nbformat_minor": 2
}
